{
 "cells": [
  {
   "cell_type": "markdown",
   "metadata": {},
   "source": [
    "# automaticallyDailyDogPicture (audadopi)"
   ]
  },
  {
   "cell_type": "code",
   "execution_count": 1,
   "metadata": {
    "collapsed": true
   },
   "outputs": [],
   "source": [
    "import os\n",
    "import datetime\n",
    "import time\n",
    "from fbchat import Client\n",
    "from fbchat.models import *"
   ]
  },
  {
   "cell_type": "code",
   "execution_count": 11,
   "metadata": {
    "collapsed": true
   },
   "outputs": [],
   "source": [
    "path = '/Users/jan/Dropbox/dailyDogPictures'\n",
    "directoryUnsortedPics = 'unsorted'\n",
    "directorySortedPics = 'sortedDate'\n",
    "dateFormat = '%y%m%d'\n",
    "\n",
    "startDate = datetime.datetime(2018,2,9)\n",
    "\n",
    "threadIds = ['******']\n",
    "\n",
    "ownEmail = '*****'\n",
    "ownPassword = '*****'\n",
    "\n",
    "massage = 'Here is your daily dog picture'\n",
    "\n",
    "timeOffsetInSeconds = 20\n"
   ]
  },
  {
   "cell_type": "code",
   "execution_count": 12,
   "metadata": {
    "collapsed": false,
    "scrolled": true
   },
   "outputs": [],
   "source": [
    "\n",
    "#os.chdir(path)\n",
    "#client = Client(ownEmail, ownPassword)"
   ]
  },
  {
   "cell_type": "code",
   "execution_count": 13,
   "metadata": {
    "collapsed": false
   },
   "outputs": [],
   "source": [
    "\n",
    "def renamePics(\n",
    "    dateFormat=dateFormat,\n",
    "    directorySortedPics=directorySortedPics,\n",
    "    directoryUnsortedPics=directoryUnsortedPics,\n",
    "    startDate=startDate):\n",
    "    '''Renames file names of dog picures to day format'''\n",
    "    \n",
    "    renamedPictures = 0\n",
    "    dayCounter = len(os.listdir(directorySortedPics))\n",
    "    for pic in os.listdir(directoryUnsortedPics):\n",
    "        postDate = startDate + datetime.timedelta(days=dayCounter)\n",
    "        fileEnding = pic[-4:]\n",
    "        newFilename = postDate.strftime(dateFormat) + fileEnding\n",
    "        os.rename(os.path.join(directoryUnsortedPics, pic), os.path.join(directorySortedPics, newFilename))\n",
    "        dayCounter += 1\n",
    "        renamedPictures += 1\n",
    "    print('{}: dog pictures renamed'.format(renamedPictures))\n",
    "    return\n",
    "        \n",
    "def sendPicture(\n",
    "    client=client,\n",
    "    dateFormat=dateFormat,\n",
    "    directorySortedPics=directorySortedPics,\n",
    "    massage=massage,\n",
    "    timeOffsetInSeconds=timeOffsetInSeconds,\n",
    "    threadIds=threadIds):\n",
    "    \n",
    "    #client = Client(ownEmail, ownPassword)\n",
    "    today = datetime.datetime.now().strftime(dateFormat)\n",
    "    for file in os.listdir(directorySortedPics):\n",
    "        if file[:-4] == today:\n",
    "            dailyDogPicture = file\n",
    "    #directory = os.path.join(directorySortedPics, dailyDogPicture)\n",
    "    directory = os.path.join(os.getcwd(), directorySortedPics, dailyDogPicture)\n",
    "    \n",
    "    print(directory)\n",
    "    print(massage)\n",
    "    \n",
    "    for thread_id in threadIds:\n",
    "        client.sendLocalImage(\n",
    "            directory,\n",
    "            message=Message(text=massage),\n",
    "            thread_id=thread_id,\n",
    "            thread_type=ThreadType.USER)\n",
    "        client.send(\n",
    "            Message(text=massage),\n",
    "            thread_id=thread_id,\n",
    "            thread_type=ThreadType.USER)\n",
    "        \n",
    "        \n",
    "    #time.sleep(timeOffsetInSeconds)\n",
    "    #print(client.logout())\n",
    "    return"
   ]
  },
  {
   "cell_type": "code",
   "execution_count": 14,
   "metadata": {
    "collapsed": false
   },
   "outputs": [
    {
     "name": "stdout",
     "output_type": "stream",
     "text": [
      "0: dog pictures renamed\n",
      "C:\\Users\\jan\\Dropbox\\dailyDogPictures\\sortedDate\\180209.png\n",
      "Here is your daily dog picture\n"
     ]
    },
    {
     "ename": "IndexError",
     "evalue": "list index out of range",
     "output_type": "error",
     "traceback": [
      "\u001b[1;31m---------------------------------------------------------------------------\u001b[0m",
      "\u001b[1;31mIndexError\u001b[0m                                Traceback (most recent call last)",
      "\u001b[1;32m<ipython-input-14-c3b8ee6ecf97>\u001b[0m in \u001b[0;36m<module>\u001b[1;34m()\u001b[0m\n\u001b[0;32m      1\u001b[0m \u001b[0mrenamePics\u001b[0m\u001b[1;33m(\u001b[0m\u001b[1;33m)\u001b[0m\u001b[1;33m\u001b[0m\u001b[0m\n\u001b[1;32m----> 2\u001b[1;33m \u001b[0msendPicture\u001b[0m\u001b[1;33m(\u001b[0m\u001b[1;33m)\u001b[0m\u001b[1;33m\u001b[0m\u001b[0m\n\u001b[0m",
      "\u001b[1;32m<ipython-input-13-fa3f8ee32940>\u001b[0m in \u001b[0;36msendPicture\u001b[1;34m(client, dateFormat, directorySortedPics, massage, timeOffsetInSeconds, threadIds)\u001b[0m\n\u001b[0;32m     43\u001b[0m             \u001b[0mmessage\u001b[0m\u001b[1;33m=\u001b[0m\u001b[0mMessage\u001b[0m\u001b[1;33m(\u001b[0m\u001b[0mtext\u001b[0m\u001b[1;33m=\u001b[0m\u001b[0mmassage\u001b[0m\u001b[1;33m)\u001b[0m\u001b[1;33m,\u001b[0m\u001b[1;33m\u001b[0m\u001b[0m\n\u001b[0;32m     44\u001b[0m             \u001b[0mthread_id\u001b[0m\u001b[1;33m=\u001b[0m\u001b[0mthread_id\u001b[0m\u001b[1;33m,\u001b[0m\u001b[1;33m\u001b[0m\u001b[0m\n\u001b[1;32m---> 45\u001b[1;33m             thread_type=ThreadType.USER)\n\u001b[0m\u001b[0;32m     46\u001b[0m         client.send(\n\u001b[0;32m     47\u001b[0m             \u001b[0mMessage\u001b[0m\u001b[1;33m(\u001b[0m\u001b[0mtext\u001b[0m\u001b[1;33m=\u001b[0m\u001b[0mmassage\u001b[0m\u001b[1;33m)\u001b[0m\u001b[1;33m,\u001b[0m\u001b[1;33m\u001b[0m\u001b[0m\n",
      "\u001b[1;32mC:\\Users\\jan\\Anaconda3\\lib\\site-packages\\fbchat\\client.py\u001b[0m in \u001b[0;36msendLocalImage\u001b[1;34m(self, image_path, message, thread_id, thread_type)\u001b[0m\n\u001b[0;32m   1034\u001b[0m         \u001b[0mmimetype\u001b[0m \u001b[1;33m=\u001b[0m \u001b[0mguess_type\u001b[0m\u001b[1;33m(\u001b[0m\u001b[0mimage_path\u001b[0m\u001b[1;33m)\u001b[0m\u001b[1;33m[\u001b[0m\u001b[1;36m0\u001b[0m\u001b[1;33m]\u001b[0m\u001b[1;33m\u001b[0m\u001b[0m\n\u001b[0;32m   1035\u001b[0m         \u001b[0mis_gif\u001b[0m \u001b[1;33m=\u001b[0m \u001b[1;33m(\u001b[0m\u001b[0mmimetype\u001b[0m \u001b[1;33m==\u001b[0m \u001b[1;34m'image/gif'\u001b[0m\u001b[1;33m)\u001b[0m\u001b[1;33m\u001b[0m\u001b[0m\n\u001b[1;32m-> 1036\u001b[1;33m         \u001b[0mimage_id\u001b[0m \u001b[1;33m=\u001b[0m \u001b[0mself\u001b[0m\u001b[1;33m.\u001b[0m\u001b[0m_uploadImage\u001b[0m\u001b[1;33m(\u001b[0m\u001b[0mimage_path\u001b[0m\u001b[1;33m,\u001b[0m \u001b[0mopen\u001b[0m\u001b[1;33m(\u001b[0m\u001b[0mimage_path\u001b[0m\u001b[1;33m,\u001b[0m \u001b[1;34m'rb'\u001b[0m\u001b[1;33m)\u001b[0m\u001b[1;33m,\u001b[0m \u001b[0mmimetype\u001b[0m\u001b[1;33m)\u001b[0m\u001b[1;33m\u001b[0m\u001b[0m\n\u001b[0m\u001b[0;32m   1037\u001b[0m         \u001b[1;32mreturn\u001b[0m \u001b[0mself\u001b[0m\u001b[1;33m.\u001b[0m\u001b[0msendImage\u001b[0m\u001b[1;33m(\u001b[0m\u001b[0mimage_id\u001b[0m\u001b[1;33m=\u001b[0m\u001b[0mimage_id\u001b[0m\u001b[1;33m,\u001b[0m \u001b[0mmessage\u001b[0m\u001b[1;33m=\u001b[0m\u001b[0mmessage\u001b[0m\u001b[1;33m,\u001b[0m \u001b[0mthread_id\u001b[0m\u001b[1;33m=\u001b[0m\u001b[0mthread_id\u001b[0m\u001b[1;33m,\u001b[0m \u001b[0mthread_type\u001b[0m\u001b[1;33m=\u001b[0m\u001b[0mthread_type\u001b[0m\u001b[1;33m,\u001b[0m \u001b[0mis_gif\u001b[0m\u001b[1;33m=\u001b[0m\u001b[0mis_gif\u001b[0m\u001b[1;33m)\u001b[0m\u001b[1;33m\u001b[0m\u001b[0m\n\u001b[0;32m   1038\u001b[0m \u001b[1;33m\u001b[0m\u001b[0m\n",
      "\u001b[1;32mC:\\Users\\jan\\Anaconda3\\lib\\site-packages\\fbchat\\client.py\u001b[0m in \u001b[0;36m_uploadImage\u001b[1;34m(self, image_path, data, mimetype)\u001b[0m\n\u001b[0;32m    979\u001b[0m         \u001b[1;31m# Return the image_id\u001b[0m\u001b[1;33m\u001b[0m\u001b[1;33m\u001b[0m\u001b[0m\n\u001b[0;32m    980\u001b[0m         \u001b[1;32mif\u001b[0m \u001b[1;32mnot\u001b[0m \u001b[0mmimetype\u001b[0m \u001b[1;33m==\u001b[0m \u001b[1;34m'image/gif'\u001b[0m\u001b[1;33m:\u001b[0m\u001b[1;33m\u001b[0m\u001b[0m\n\u001b[1;32m--> 981\u001b[1;33m             \u001b[1;32mreturn\u001b[0m \u001b[0mj\u001b[0m\u001b[1;33m[\u001b[0m\u001b[1;34m'payload'\u001b[0m\u001b[1;33m]\u001b[0m\u001b[1;33m[\u001b[0m\u001b[1;34m'metadata'\u001b[0m\u001b[1;33m]\u001b[0m\u001b[1;33m[\u001b[0m\u001b[1;36m0\u001b[0m\u001b[1;33m]\u001b[0m\u001b[1;33m[\u001b[0m\u001b[1;34m'image_id'\u001b[0m\u001b[1;33m]\u001b[0m\u001b[1;33m\u001b[0m\u001b[0m\n\u001b[0m\u001b[0;32m    982\u001b[0m         \u001b[1;32melse\u001b[0m\u001b[1;33m:\u001b[0m\u001b[1;33m\u001b[0m\u001b[0m\n\u001b[0;32m    983\u001b[0m             \u001b[1;32mreturn\u001b[0m \u001b[0mj\u001b[0m\u001b[1;33m[\u001b[0m\u001b[1;34m'payload'\u001b[0m\u001b[1;33m]\u001b[0m\u001b[1;33m[\u001b[0m\u001b[1;34m'metadata'\u001b[0m\u001b[1;33m]\u001b[0m\u001b[1;33m[\u001b[0m\u001b[1;36m0\u001b[0m\u001b[1;33m]\u001b[0m\u001b[1;33m[\u001b[0m\u001b[1;34m'gif_id'\u001b[0m\u001b[1;33m]\u001b[0m\u001b[1;33m\u001b[0m\u001b[0m\n",
      "\u001b[1;31mIndexError\u001b[0m: list index out of range"
     ]
    }
   ],
   "source": [
    "renamePics()\n",
    "sendPicture()"
   ]
  }
 ],
 "metadata": {
  "anaconda-cloud": {},
  "kernelspec": {
   "display_name": "Python [Root]",
   "language": "python",
   "name": "Python [Root]"
  },
  "language_info": {
   "codemirror_mode": {
    "name": "ipython",
    "version": 3
   },
   "file_extension": ".py",
   "mimetype": "text/x-python",
   "name": "python",
   "nbconvert_exporter": "python",
   "pygments_lexer": "ipython3",
   "version": "3.5.1"
  }
 },
 "nbformat": 4,
 "nbformat_minor": 0
}
